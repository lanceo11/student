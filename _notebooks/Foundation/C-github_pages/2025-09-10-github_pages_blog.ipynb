{
 "cells": [
  {
   "cell_type": "markdown",
   "id": "a814acc2",
   "metadata": {},
   "source": [
    "- - -\n",
    "title: Lance's Blog\n",
    "comments: true\n",
    "layout: post\n",
    "permalink: Lances Blog\n",
    "description: my blog\n",
    "- - -"
   ]
  },
  {
   "cell_type": "code",
   "execution_count": null,
   "id": "24710e82",
   "metadata": {
    "vscode": {
     "languageId": "plaintext"
    }
   },
   "outputs": [],
   "source": [
    "# Lance's Blog Setup\n",
    "\n",
    "## Steps to Set Up My Project\n",
    "\n",
    "1. **Set up a virtual environment (`venv`)**  \n",
    "   Keeps project tools separate and organized.\n",
    "\n",
    "2. **Install Python tools**  \n",
    "   Added Jupyter for jokes and Markdown helpers.\n",
    "\n",
    "3. **Create the project folder (`student/`)**  \n",
    "   Organized with the correct structure and repositories\n",
    "\n",
    "4. **Edited `index.md` and `about.md`**  \n",
    "  These files tell more about ourselves.\n",
    "\n",
    "5. **Worked with Background.md**  \n",
    "  Gives us a taste of a movin sprite with a background.\n",
    "\n",
    "6. **Link the repo to GitHub Pages and push changes**  \n",
    "   Connected everything for deployment.\n",
    "\n",
    "7. **Verify the site**  \n",
    "   Checked that our site works on the website and local file."
   ]
  }
 ],
 "metadata": {
  "language_info": {
   "name": "python"
  }
 },
 "nbformat": 4,
 "nbformat_minor": 5
}
